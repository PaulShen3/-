{
 "cells": [
  {
   "cell_type": "code",
   "execution_count": null,
   "id": "24b196d6",
   "metadata": {},
   "outputs": [],
   "source": [
    "import pandas as pd\n",
    "import matplotlib.pyplot as plt\n",
    "import seaborn as sns\n",
    "from sklearn import linear_model"
   ]
  },
  {
   "cell_type": "code",
   "execution_count": null,
   "id": "9151090d",
   "metadata": {},
   "outputs": [],
   "source": []
  },
  {
   "cell_type": "code",
   "execution_count": null,
   "id": "070b2f02",
   "metadata": {},
   "outputs": [],
   "source": [
    "# -----------------------第一步 建模 ----------------------- #\n",
    "# 导入第三方模块\n",
    "import statsmodels.api as sm\n",
    "# 将数据集拆分为训练集和测试集\n",
    "X_train, X_test, y_train, y_test = model_selection.train_test_split(X, y, test_size = 0.25, random_state = 1234)\n",
    "# 为训练集和测试集的X矩阵添加常数列1\n",
    "X_train2 = sm.add_constant(X_train)\n",
    "X_test2 = sm.add_constant(X_test)\n",
    "# 拟合Logistic模型\n",
    "sm_logistic = sm.formula.Logit(y_train, X_train2).fit()\n",
    "# 返回模型的参数\n",
    "sm_logistic.params"
   ]
  }
 ],
 "metadata": {
  "kernelspec": {
   "display_name": "Python 3 (ipykernel)",
   "language": "python",
   "name": "python3"
  },
  "language_info": {
   "codemirror_mode": {
    "name": "ipython",
    "version": 3
   },
   "file_extension": ".py",
   "mimetype": "text/x-python",
   "name": "python",
   "nbconvert_exporter": "python",
   "pygments_lexer": "ipython3",
   "version": "3.10.3"
  }
 },
 "nbformat": 4,
 "nbformat_minor": 5
}
