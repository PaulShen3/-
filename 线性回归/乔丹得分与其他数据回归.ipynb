{
 "cells": [
  {
   "cell_type": "markdown",
   "id": "cc395b0a",
   "metadata": {},
   "source": [
    "# 这是一个失败的模型...因为我选的自变量和因变量根本不相关...所以就不要看下去了"
   ]
  },
  {
   "cell_type": "code",
   "execution_count": 34,
   "id": "97b70ec4",
   "metadata": {},
   "outputs": [],
   "source": [
    "#导入第三方模块\n",
    "import pandas as pd\n",
    "import numpy as np\n",
    "import matplotlib.pyplot as plt\n",
    "import seaborn as sns\n",
    "from sklearn import model_selection\n",
    "import statsmodels.api as sm"
   ]
  },
  {
   "cell_type": "code",
   "execution_count": 35,
   "id": "17b3bd70",
   "metadata": {},
   "outputs": [],
   "source": [
    "#导入数据\n",
    "data_MJ = pd.read_excel('playoff.xls') "
   ]
  },
  {
   "cell_type": "code",
   "execution_count": 36,
   "id": "33d5a838",
   "metadata": {},
   "outputs": [],
   "source": [
    "data_MJ.rename(columns = {\"得分\":\"score\",\"篮板\":\"rebound\",\"助攻\":\"assist\",\"抢断\":\"steal\",\"盖帽\":\"block\"},inplace=True)"
   ]
  },
  {
   "cell_type": "code",
   "execution_count": 37,
   "id": "d601c719",
   "metadata": {},
   "outputs": [
    {
     "data": {
      "text/html": [
       "<div>\n",
       "<style scoped>\n",
       "    .dataframe tbody tr th:only-of-type {\n",
       "        vertical-align: middle;\n",
       "    }\n",
       "\n",
       "    .dataframe tbody tr th {\n",
       "        vertical-align: top;\n",
       "    }\n",
       "\n",
       "    .dataframe thead th {\n",
       "        text-align: right;\n",
       "    }\n",
       "</style>\n",
       "<table border=\"1\" class=\"dataframe\">\n",
       "  <thead>\n",
       "    <tr style=\"text-align: right;\">\n",
       "      <th></th>\n",
       "      <th>球员</th>\n",
       "      <th>赛季</th>\n",
       "      <th>轮次</th>\n",
       "      <th>果</th>\n",
       "      <th>比赛</th>\n",
       "      <th>时间</th>\n",
       "      <th>投篮</th>\n",
       "      <th>命中</th>\n",
       "      <th>出手</th>\n",
       "      <th>三分</th>\n",
       "      <th>...</th>\n",
       "      <th>出手.2</th>\n",
       "      <th>rebound</th>\n",
       "      <th>前场</th>\n",
       "      <th>后场</th>\n",
       "      <th>assist</th>\n",
       "      <th>steal</th>\n",
       "      <th>block</th>\n",
       "      <th>失误</th>\n",
       "      <th>犯规</th>\n",
       "      <th>score</th>\n",
       "    </tr>\n",
       "  </thead>\n",
       "  <tbody>\n",
       "    <tr>\n",
       "      <th>0</th>\n",
       "      <td>迈克尔-乔丹</td>\n",
       "      <td>85-86</td>\n",
       "      <td>1</td>\n",
       "      <td>负</td>\n",
       "      <td>凯尔特122-104公牛</td>\n",
       "      <td>39</td>\n",
       "      <td>0.444</td>\n",
       "      <td>8</td>\n",
       "      <td>18</td>\n",
       "      <td>1.000</td>\n",
       "      <td>...</td>\n",
       "      <td>3</td>\n",
       "      <td>10</td>\n",
       "      <td>4</td>\n",
       "      <td>6</td>\n",
       "      <td>9</td>\n",
       "      <td>2</td>\n",
       "      <td>1</td>\n",
       "      <td>5</td>\n",
       "      <td>6</td>\n",
       "      <td>19</td>\n",
       "    </tr>\n",
       "    <tr>\n",
       "      <th>1</th>\n",
       "      <td>迈克尔-乔丹</td>\n",
       "      <td>85-86</td>\n",
       "      <td>1</td>\n",
       "      <td>负</td>\n",
       "      <td>凯尔特135-131公牛</td>\n",
       "      <td>53</td>\n",
       "      <td>0.537</td>\n",
       "      <td>22</td>\n",
       "      <td>41</td>\n",
       "      <td>NaN</td>\n",
       "      <td>...</td>\n",
       "      <td>21</td>\n",
       "      <td>5</td>\n",
       "      <td>1</td>\n",
       "      <td>4</td>\n",
       "      <td>6</td>\n",
       "      <td>3</td>\n",
       "      <td>2</td>\n",
       "      <td>4</td>\n",
       "      <td>4</td>\n",
       "      <td>63</td>\n",
       "    </tr>\n",
       "    <tr>\n",
       "      <th>2</th>\n",
       "      <td>迈克尔-乔丹</td>\n",
       "      <td>85-86</td>\n",
       "      <td>1</td>\n",
       "      <td>负</td>\n",
       "      <td>凯尔特123-104公牛</td>\n",
       "      <td>43</td>\n",
       "      <td>0.500</td>\n",
       "      <td>18</td>\n",
       "      <td>36</td>\n",
       "      <td>NaN</td>\n",
       "      <td>...</td>\n",
       "      <td>15</td>\n",
       "      <td>4</td>\n",
       "      <td>0</td>\n",
       "      <td>4</td>\n",
       "      <td>2</td>\n",
       "      <td>2</td>\n",
       "      <td>1</td>\n",
       "      <td>5</td>\n",
       "      <td>3</td>\n",
       "      <td>49</td>\n",
       "    </tr>\n",
       "    <tr>\n",
       "      <th>3</th>\n",
       "      <td>迈克尔-乔丹</td>\n",
       "      <td>86-87</td>\n",
       "      <td>1</td>\n",
       "      <td>负</td>\n",
       "      <td>凯尔特105-94公牛</td>\n",
       "      <td>39</td>\n",
       "      <td>0.300</td>\n",
       "      <td>9</td>\n",
       "      <td>30</td>\n",
       "      <td>0.000</td>\n",
       "      <td>...</td>\n",
       "      <td>14</td>\n",
       "      <td>11</td>\n",
       "      <td>6</td>\n",
       "      <td>5</td>\n",
       "      <td>7</td>\n",
       "      <td>2</td>\n",
       "      <td>1</td>\n",
       "      <td>2</td>\n",
       "      <td>4</td>\n",
       "      <td>30</td>\n",
       "    </tr>\n",
       "    <tr>\n",
       "      <th>4</th>\n",
       "      <td>迈克尔-乔丹</td>\n",
       "      <td>86-87</td>\n",
       "      <td>1</td>\n",
       "      <td>负</td>\n",
       "      <td>凯尔特105-96公牛</td>\n",
       "      <td>45</td>\n",
       "      <td>0.483</td>\n",
       "      <td>14</td>\n",
       "      <td>29</td>\n",
       "      <td>0.667</td>\n",
       "      <td>...</td>\n",
       "      <td>14</td>\n",
       "      <td>4</td>\n",
       "      <td>1</td>\n",
       "      <td>3</td>\n",
       "      <td>4</td>\n",
       "      <td>0</td>\n",
       "      <td>4</td>\n",
       "      <td>4</td>\n",
       "      <td>3</td>\n",
       "      <td>42</td>\n",
       "    </tr>\n",
       "  </tbody>\n",
       "</table>\n",
       "<p>5 rows × 24 columns</p>\n",
       "</div>"
      ],
      "text/plain": [
       "       球员     赛季  轮次  果            比赛  时间     投篮  命中  出手     三分  ...  出手.2  \\\n",
       "0  迈克尔-乔丹  85-86   1  负  凯尔特122-104公牛  39  0.444   8  18  1.000  ...     3   \n",
       "1  迈克尔-乔丹  85-86   1  负  凯尔特135-131公牛  53  0.537  22  41    NaN  ...    21   \n",
       "2  迈克尔-乔丹  85-86   1  负  凯尔特123-104公牛  43  0.500  18  36    NaN  ...    15   \n",
       "3  迈克尔-乔丹  86-87   1  负   凯尔特105-94公牛  39  0.300   9  30  0.000  ...    14   \n",
       "4  迈克尔-乔丹  86-87   1  负   凯尔特105-96公牛  45  0.483  14  29  0.667  ...    14   \n",
       "\n",
       "   rebound  前场  后场  assist  steal  block  失误  犯规  score  \n",
       "0       10   4   6       9      2      1   5   6     19  \n",
       "1        5   1   4       6      3      2   4   4     63  \n",
       "2        4   0   4       2      2      1   5   3     49  \n",
       "3       11   6   5       7      2      1   2   4     30  \n",
       "4        4   1   3       4      0      4   4   3     42  \n",
       "\n",
       "[5 rows x 24 columns]"
      ]
     },
     "execution_count": 37,
     "metadata": {},
     "output_type": "execute_result"
    }
   ],
   "source": [
    "data_MJ.head(5)"
   ]
  },
  {
   "cell_type": "code",
   "execution_count": 38,
   "id": "13b4c02c",
   "metadata": {},
   "outputs": [],
   "source": [
    "#将数据集拆分为训练集和测试集\n",
    "train,test = model_selection.train_test_split(data_MJ,test_size = 0.2,random_state = 1234)"
   ]
  },
  {
   "cell_type": "code",
   "execution_count": 39,
   "id": "41b6e292",
   "metadata": {},
   "outputs": [],
   "source": [
    "#根据train数据集建模\n",
    "model = sm.formula.ols('score ~ rebound + assist + steal + block',data = train).fit()"
   ]
  },
  {
   "cell_type": "code",
   "execution_count": 40,
   "id": "6efb2d02",
   "metadata": {},
   "outputs": [
    {
     "name": "stdout",
     "output_type": "stream",
     "text": [
      "模型的偏回归系数分别为:\n",
      "Intercept    32.633881\n",
      "rebound       0.019032\n",
      "assist       -0.224708\n",
      "steal         0.492056\n",
      "block         1.609537\n",
      "dtype: float64\n"
     ]
    }
   ],
   "source": [
    "print(f\"模型的偏回归系数分别为:\\n{model.params}\")"
   ]
  },
  {
   "cell_type": "code",
   "execution_count": 41,
   "id": "5fbd060c",
   "metadata": {},
   "outputs": [
    {
     "data": {
      "text/html": [
       "<div>\n",
       "<style scoped>\n",
       "    .dataframe tbody tr th:only-of-type {\n",
       "        vertical-align: middle;\n",
       "    }\n",
       "\n",
       "    .dataframe tbody tr th {\n",
       "        vertical-align: top;\n",
       "    }\n",
       "\n",
       "    .dataframe thead th {\n",
       "        text-align: right;\n",
       "    }\n",
       "</style>\n",
       "<table border=\"1\" class=\"dataframe\">\n",
       "  <thead>\n",
       "    <tr style=\"text-align: right;\">\n",
       "      <th></th>\n",
       "      <th>球员</th>\n",
       "      <th>赛季</th>\n",
       "      <th>轮次</th>\n",
       "      <th>果</th>\n",
       "      <th>比赛</th>\n",
       "      <th>时间</th>\n",
       "      <th>投篮</th>\n",
       "      <th>命中</th>\n",
       "      <th>出手</th>\n",
       "      <th>三分</th>\n",
       "      <th>...</th>\n",
       "      <th>出手.2</th>\n",
       "      <th>rebound</th>\n",
       "      <th>前场</th>\n",
       "      <th>后场</th>\n",
       "      <th>assist</th>\n",
       "      <th>steal</th>\n",
       "      <th>block</th>\n",
       "      <th>失误</th>\n",
       "      <th>犯规</th>\n",
       "      <th>score</th>\n",
       "    </tr>\n",
       "  </thead>\n",
       "  <tbody>\n",
       "    <tr>\n",
       "      <th>0</th>\n",
       "      <td>迈克尔-乔丹</td>\n",
       "      <td>85-86</td>\n",
       "      <td>1</td>\n",
       "      <td>负</td>\n",
       "      <td>凯尔特122-104公牛</td>\n",
       "      <td>39</td>\n",
       "      <td>0.444</td>\n",
       "      <td>8</td>\n",
       "      <td>18</td>\n",
       "      <td>1.0</td>\n",
       "      <td>...</td>\n",
       "      <td>3</td>\n",
       "      <td>10</td>\n",
       "      <td>4</td>\n",
       "      <td>6</td>\n",
       "      <td>9</td>\n",
       "      <td>2</td>\n",
       "      <td>1</td>\n",
       "      <td>5</td>\n",
       "      <td>6</td>\n",
       "      <td>19</td>\n",
       "    </tr>\n",
       "    <tr>\n",
       "      <th>1</th>\n",
       "      <td>迈克尔-乔丹</td>\n",
       "      <td>85-86</td>\n",
       "      <td>1</td>\n",
       "      <td>负</td>\n",
       "      <td>凯尔特135-131公牛</td>\n",
       "      <td>53</td>\n",
       "      <td>0.537</td>\n",
       "      <td>22</td>\n",
       "      <td>41</td>\n",
       "      <td>NaN</td>\n",
       "      <td>...</td>\n",
       "      <td>21</td>\n",
       "      <td>5</td>\n",
       "      <td>1</td>\n",
       "      <td>4</td>\n",
       "      <td>6</td>\n",
       "      <td>3</td>\n",
       "      <td>2</td>\n",
       "      <td>4</td>\n",
       "      <td>4</td>\n",
       "      <td>63</td>\n",
       "    </tr>\n",
       "  </tbody>\n",
       "</table>\n",
       "<p>2 rows × 24 columns</p>\n",
       "</div>"
      ],
      "text/plain": [
       "       球员     赛季  轮次  果            比赛  时间     投篮  命中  出手   三分  ...  出手.2  \\\n",
       "0  迈克尔-乔丹  85-86   1  负  凯尔特122-104公牛  39  0.444   8  18  1.0  ...     3   \n",
       "1  迈克尔-乔丹  85-86   1  负  凯尔特135-131公牛  53  0.537  22  41  NaN  ...    21   \n",
       "\n",
       "   rebound  前场  后场  assist  steal  block  失误  犯规  score  \n",
       "0       10   4   6       9      2      1   5   6     19  \n",
       "1        5   1   4       6      3      2   4   4     63  \n",
       "\n",
       "[2 rows x 24 columns]"
      ]
     },
     "execution_count": 41,
     "metadata": {},
     "output_type": "execute_result"
    }
   ],
   "source": [
    "data_MJ.head(2)"
   ]
  },
  {
   "cell_type": "code",
   "execution_count": 44,
   "id": "a78e4cc7",
   "metadata": {
    "scrolled": true
   },
   "outputs": [
    {
     "name": "stdout",
     "output_type": "stream",
     "text": [
      "对比预测值和实际值的差异:\n",
      "            预测值  实际值\n",
      "54   34.699608   29\n",
      "58   33.032080   38\n",
      "25   35.458870   40\n",
      "172  34.629536   38\n",
      "138  35.053861   26\n",
      "102  32.364908   18\n",
      "74   32.856964   35\n",
      "134  34.362188   35\n",
      "101  32.608648   32\n",
      "149  33.199690   27\n",
      "29   33.268315   50\n",
      "31   31.466076   30\n",
      "155  33.287347   28\n",
      "137  31.811179   22\n",
      "135  34.046000   39\n",
      "88   31.705242   33\n",
      "39   33.119737   34\n",
      "99   33.516630   27\n",
      "125  34.958557   35\n",
      "105  39.763560   29\n",
      "162  33.969870   29\n",
      "110  33.477814   40\n",
      "51   35.970100   29\n",
      "6    31.972590   25\n",
      "63   35.679896   33\n",
      "40   35.569383   37\n",
      "136  34.729274   38\n",
      "111  40.499356   38\n",
      "160  31.007510   28\n",
      "59   31.981740   25\n",
      "9    34.720123   36\n",
      "61   32.865363   29\n",
      "27   31.111823   34\n",
      "57   32.818899   22\n",
      "150  38.291826   34\n"
     ]
    }
   ],
   "source": [
    "#删除test数据集中‘得分’变量，用剩下自变量进行预测\n",
    "test_x = test.drop(labels ='score',axis=1)\n",
    "pred = model.predict(exog=test_x)\n",
    "print(\"对比预测值和实际值的差异:\\n\",pd.DataFrame({'预测值':pred,'实际值':test.score}))"
   ]
  },
  {
   "cell_type": "code",
   "execution_count": 45,
   "id": "1b1c3682",
   "metadata": {},
   "outputs": [],
   "source": [
    "#根据上面可以大概写个模型\n",
    "#score = 32.63 + 0.02rebound - 0.22 assist + 0.49 steal + 1.6 block"
   ]
  },
  {
   "cell_type": "code",
   "execution_count": 46,
   "id": "c7e68275",
   "metadata": {},
   "outputs": [],
   "source": [
    "#做个F检验"
   ]
  },
  {
   "cell_type": "code",
   "execution_count": 47,
   "id": "828339eb",
   "metadata": {},
   "outputs": [
    {
     "name": "stdout",
     "output_type": "stream",
     "text": [
      "F分布理论值为:2.438739218445942\n",
      "F分布实际值为:1.3647404708638335\n"
     ]
    }
   ],
   "source": [
    "#导入spicy模块\n",
    "from scipy.stats import f\n",
    "#统计变量个数和观测个数\n",
    "p = model.df_model\n",
    "n = train.shape[0]\n",
    "F_Theory = f.ppf(q=0.95,dfn=p,dfd=n-p-1)\n",
    "print(f'F分布理论值为:{F_Theory}')\n",
    "print(f'F分布实际值为:{model.fvalue}')"
   ]
  },
  {
   "cell_type": "markdown",
   "id": "59db49e5",
   "metadata": {},
   "source": [
    "怎么会没通过F检验呢...."
   ]
  },
  {
   "cell_type": "code",
   "execution_count": 49,
   "id": "cf9959c9",
   "metadata": {},
   "outputs": [
    {
     "data": {
      "text/html": [
       "<table class=\"simpletable\">\n",
       "<caption>OLS Regression Results</caption>\n",
       "<tr>\n",
       "  <th>Dep. Variable:</th>          <td>score</td>      <th>  R-squared:         </th> <td>   0.039</td>\n",
       "</tr>\n",
       "<tr>\n",
       "  <th>Model:</th>                   <td>OLS</td>       <th>  Adj. R-squared:    </th> <td>   0.010</td>\n",
       "</tr>\n",
       "<tr>\n",
       "  <th>Method:</th>             <td>Least Squares</td>  <th>  F-statistic:       </th> <td>   1.365</td>\n",
       "</tr>\n",
       "<tr>\n",
       "  <th>Date:</th>             <td>Sat, 07 May 2022</td> <th>  Prob (F-statistic):</th>  <td> 0.249</td> \n",
       "</tr>\n",
       "<tr>\n",
       "  <th>Time:</th>                 <td>13:03:40</td>     <th>  Log-Likelihood:    </th> <td> -508.81</td>\n",
       "</tr>\n",
       "<tr>\n",
       "  <th>No. Observations:</th>      <td>   140</td>      <th>  AIC:               </th> <td>   1028.</td>\n",
       "</tr>\n",
       "<tr>\n",
       "  <th>Df Residuals:</th>          <td>   135</td>      <th>  BIC:               </th> <td>   1042.</td>\n",
       "</tr>\n",
       "<tr>\n",
       "  <th>Df Model:</th>              <td>     4</td>      <th>                     </th>     <td> </td>   \n",
       "</tr>\n",
       "<tr>\n",
       "  <th>Covariance Type:</th>      <td>nonrobust</td>    <th>                     </th>     <td> </td>   \n",
       "</tr>\n",
       "</table>\n",
       "<table class=\"simpletable\">\n",
       "<tr>\n",
       "      <td></td>         <th>coef</th>     <th>std err</th>      <th>t</th>      <th>P>|t|</th>  <th>[0.025</th>    <th>0.975]</th>  \n",
       "</tr>\n",
       "<tr>\n",
       "  <th>Intercept</th> <td>   32.6339</td> <td>    2.666</td> <td>   12.240</td> <td> 0.000</td> <td>   27.361</td> <td>   37.907</td>\n",
       "</tr>\n",
       "<tr>\n",
       "  <th>rebound</th>   <td>    0.0190</td> <td>    0.317</td> <td>    0.060</td> <td> 0.952</td> <td>   -0.607</td> <td>    0.645</td>\n",
       "</tr>\n",
       "<tr>\n",
       "  <th>assist</th>    <td>   -0.2247</td> <td>    0.274</td> <td>   -0.819</td> <td> 0.414</td> <td>   -0.767</td> <td>    0.318</td>\n",
       "</tr>\n",
       "<tr>\n",
       "  <th>steal</th>     <td>    0.4921</td> <td>    0.561</td> <td>    0.877</td> <td> 0.382</td> <td>   -0.617</td> <td>    1.602</td>\n",
       "</tr>\n",
       "<tr>\n",
       "  <th>block</th>     <td>    1.6095</td> <td>    0.782</td> <td>    2.059</td> <td> 0.041</td> <td>    0.063</td> <td>    3.156</td>\n",
       "</tr>\n",
       "</table>\n",
       "<table class=\"simpletable\">\n",
       "<tr>\n",
       "  <th>Omnibus:</th>       <td> 4.119</td> <th>  Durbin-Watson:     </th> <td>   1.860</td>\n",
       "</tr>\n",
       "<tr>\n",
       "  <th>Prob(Omnibus):</th> <td> 0.128</td> <th>  Jarque-Bera (JB):  </th> <td>   4.174</td>\n",
       "</tr>\n",
       "<tr>\n",
       "  <th>Skew:</th>          <td> 0.409</td> <th>  Prob(JB):          </th> <td>   0.124</td>\n",
       "</tr>\n",
       "<tr>\n",
       "  <th>Kurtosis:</th>      <td> 2.787</td> <th>  Cond. No.          </th> <td>    31.2</td>\n",
       "</tr>\n",
       "</table><br/><br/>Notes:<br/>[1] Standard Errors assume that the covariance matrix of the errors is correctly specified."
      ],
      "text/plain": [
       "<class 'statsmodels.iolib.summary.Summary'>\n",
       "\"\"\"\n",
       "                            OLS Regression Results                            \n",
       "==============================================================================\n",
       "Dep. Variable:                  score   R-squared:                       0.039\n",
       "Model:                            OLS   Adj. R-squared:                  0.010\n",
       "Method:                 Least Squares   F-statistic:                     1.365\n",
       "Date:                Sat, 07 May 2022   Prob (F-statistic):              0.249\n",
       "Time:                        13:03:40   Log-Likelihood:                -508.81\n",
       "No. Observations:                 140   AIC:                             1028.\n",
       "Df Residuals:                     135   BIC:                             1042.\n",
       "Df Model:                           4                                         \n",
       "Covariance Type:            nonrobust                                         \n",
       "==============================================================================\n",
       "                 coef    std err          t      P>|t|      [0.025      0.975]\n",
       "------------------------------------------------------------------------------\n",
       "Intercept     32.6339      2.666     12.240      0.000      27.361      37.907\n",
       "rebound        0.0190      0.317      0.060      0.952      -0.607       0.645\n",
       "assist        -0.2247      0.274     -0.819      0.414      -0.767       0.318\n",
       "steal          0.4921      0.561      0.877      0.382      -0.617       1.602\n",
       "block          1.6095      0.782      2.059      0.041       0.063       3.156\n",
       "==============================================================================\n",
       "Omnibus:                        4.119   Durbin-Watson:                   1.860\n",
       "Prob(Omnibus):                  0.128   Jarque-Bera (JB):                4.174\n",
       "Skew:                           0.409   Prob(JB):                        0.124\n",
       "Kurtosis:                       2.787   Cond. No.                         31.2\n",
       "==============================================================================\n",
       "\n",
       "Notes:\n",
       "[1] Standard Errors assume that the covariance matrix of the errors is correctly specified.\n",
       "\"\"\""
      ]
     },
     "execution_count": 49,
     "metadata": {},
     "output_type": "execute_result"
    }
   ],
   "source": [
    "model.summary()"
   ]
  },
  {
   "cell_type": "code",
   "execution_count": 50,
   "id": "76123f3c",
   "metadata": {},
   "outputs": [],
   "source": [
    "#做个正态性检验看一下"
   ]
  },
  {
   "cell_type": "code",
   "execution_count": 57,
   "id": "e774fc8b",
   "metadata": {},
   "outputs": [
    {
     "name": "stderr",
     "output_type": "stream",
     "text": [
      "D:\\lib\\site-packages\\seaborn\\distributions.py:2619: FutureWarning: `distplot` is a deprecated function and will be removed in a future version. Please adapt your code to use either `displot` (a figure-level function with similar flexibility) or `histplot` (an axes-level function for histograms).\n",
      "  warnings.warn(msg, FutureWarning)\n"
     ]
    },
    {
     "data": {
      "image/png": "[encoded data removed]",
      "text/plain": [
       "<Figure size 432x288 with 1 Axes>"
      ]
     },
     "metadata": {
      "needs_background": "light"
     },
     "output_type": "display_data"
    }
   ],
   "source": [
    "import scipy.stats as stats\n",
    "plt.rcParams['font.sans-serif'] = ['Microsoft YaHei']\n",
    "plt.rcParams['axes.unicode_minus']  = False\n",
    "sns.distplot(\n",
    "    a = data_MJ.score,bins = 10, fit = stats.norm,\n",
    "    norm_hist = True,hist_kws = {'color':'steelblue','edgecolor':'black'},\n",
    "    kde_kws = {'color':'black','linestyle':'--','label':'核密度曲线'},\n",
    "    fit_kws = {'color':'red','linestyle':':','label':'正态密度曲线'}\n",
    ")\n",
    "plt.legend()\n",
    "plt.show()"
   ]
  },
  {
   "cell_type": "markdown",
   "id": "b5fd3c2f",
   "metadata": {},
   "source": [
    "做一下多重共线性检验..."
   ]
  },
  {
   "cell_type": "code",
   "execution_count": 59,
   "id": "e94992cd",
   "metadata": {},
   "outputs": [
    {
     "data": {
      "text/html": [
       "<div>\n",
       "<style scoped>\n",
       "    .dataframe tbody tr th:only-of-type {\n",
       "        vertical-align: middle;\n",
       "    }\n",
       "\n",
       "    .dataframe tbody tr th {\n",
       "        vertical-align: top;\n",
       "    }\n",
       "\n",
       "    .dataframe thead th {\n",
       "        text-align: right;\n",
       "    }\n",
       "</style>\n",
       "<table border=\"1\" class=\"dataframe\">\n",
       "  <thead>\n",
       "    <tr style=\"text-align: right;\">\n",
       "      <th></th>\n",
       "      <th>features</th>\n",
       "      <th>VIF 值</th>\n",
       "    </tr>\n",
       "  </thead>\n",
       "  <tbody>\n",
       "    <tr>\n",
       "      <th>0</th>\n",
       "      <td>const</td>\n",
       "      <td>10.621620</td>\n",
       "    </tr>\n",
       "    <tr>\n",
       "      <th>1</th>\n",
       "      <td>assist</td>\n",
       "      <td>1.052902</td>\n",
       "    </tr>\n",
       "    <tr>\n",
       "      <th>2</th>\n",
       "      <td>rebound</td>\n",
       "      <td>1.028803</td>\n",
       "    </tr>\n",
       "    <tr>\n",
       "      <th>3</th>\n",
       "      <td>steal</td>\n",
       "      <td>1.034049</td>\n",
       "    </tr>\n",
       "    <tr>\n",
       "      <th>4</th>\n",
       "      <td>block</td>\n",
       "      <td>1.015604</td>\n",
       "    </tr>\n",
       "  </tbody>\n",
       "</table>\n",
       "</div>"
      ],
      "text/plain": [
       "  features      VIF 值\n",
       "0    const  10.621620\n",
       "1   assist   1.052902\n",
       "2  rebound   1.028803\n",
       "3    steal   1.034049\n",
       "4    block   1.015604"
      ]
     },
     "execution_count": 59,
     "metadata": {},
     "output_type": "execute_result"
    }
   ],
   "source": [
    "from statsmodels.stats.outliers_influence import variance_inflation_factor\n",
    "#自变量X\n",
    "X = sm.add_constant(data_MJ.loc[:,['assist','rebound','steal','block']])\n",
    "\n",
    "#构造空数据框储存VIF值\n",
    "vif = pd.DataFrame()\n",
    "vif['features'] = X.columns\n",
    "vif['VIF 值'] = [variance_inflation_factor(X.values,i) for i in range(X.shape[1])]\n",
    "vif"
   ]
  },
  {
   "cell_type": "markdown",
   "id": "00a7990f",
   "metadata": {},
   "source": [
    "好像没有多重共线性...我看看线性相关性是不是比较低"
   ]
  },
  {
   "cell_type": "code",
   "execution_count": 61,
   "id": "b3793ed4",
   "metadata": {},
   "outputs": [
    {
     "data": {
      "text/plain": [
       "轮次        -0.167850\n",
       "时间         0.365200\n",
       "投篮         0.549034\n",
       "命中         0.882151\n",
       "出手         0.711870\n",
       "三分         0.175508\n",
       "命中.1       0.168006\n",
       "出手.1       0.064763\n",
       "罚球         0.215233\n",
       "命中.2       0.451646\n",
       "出手.2       0.419938\n",
       "rebound    0.027369\n",
       "前场        -0.041171\n",
       "后场         0.058263\n",
       "assist    -0.068094\n",
       "steal      0.087523\n",
       "block      0.167802\n",
       "失误         0.024418\n",
       "犯规         0.190890\n",
       "dtype: float64"
      ]
     },
     "execution_count": 61,
     "metadata": {},
     "output_type": "execute_result"
    }
   ],
   "source": [
    "data_MJ.drop('score',axis=1).corrwith(data_MJ.score)"
   ]
  },
  {
   "cell_type": "code",
   "execution_count": 62,
   "id": "3cf04e69",
   "metadata": {},
   "outputs": [
    {
     "data": {
      "image/png": "[encoded data removed]",
      "text/plain": [
       "<Figure size 900x900 with 30 Axes>"
      ]
     },
     "metadata": {
      "needs_background": "light"
     },
     "output_type": "display_data"
    }
   ],
   "source": [
    "#导入模块\n",
    "import matplotlib.pyplot as plt\n",
    "import seaborn\n",
    "\n",
    "#绘制散点图矩阵\n",
    "seaborn.pairplot(data_MJ.loc[:,['rebound','assist','steal','block','score']])\n",
    "\n",
    "plt.show()"
   ]
  },
  {
   "cell_type": "code",
   "execution_count": null,
   "id": "33de686e",
   "metadata": {},
   "outputs": [],
   "source": []
  }
 ],
 "metadata": {
  "kernelspec": {
   "display_name": "Python 3 (ipykernel)",
   "language": "python",
   "name": "python3"
  },
  "language_info": {
   "codemirror_mode": {
    "name": "ipython",
    "version": 3
   },
   "file_extension": ".py",
   "mimetype": "text/x-python",
   "name": "python",
   "nbconvert_exporter": "python",
   "pygments_lexer": "ipython3",
   "version": "3.10.3"
  }
 },
 "nbformat": 4,
 "nbformat_minor": 5
}
