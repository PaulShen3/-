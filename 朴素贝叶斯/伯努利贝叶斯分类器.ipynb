{
 "cells": [
  {
   "cell_type": "code",
   "execution_count": 1,
   "id": "832150d6",
   "metadata": {},
   "outputs": [],
   "source": [
    "import pandas as pd\n",
    "import matplotlib.pyplot as plt\n",
    "from sklearn import model_selection\n",
    "import seaborn as sns\n",
    "from sklearn import metrics"
   ]
  },
  {
   "cell_type": "code",
   "execution_count": 2,
   "id": "fe8e072b",
   "metadata": {},
   "outputs": [
    {
     "data": {
      "text/html": [
       "<div>\n",
       "<style scoped>\n",
       "    .dataframe tbody tr th:only-of-type {\n",
       "        vertical-align: middle;\n",
       "    }\n",
       "\n",
       "    .dataframe tbody tr th {\n",
       "        vertical-align: top;\n",
       "    }\n",
       "\n",
       "    .dataframe thead th {\n",
       "        text-align: right;\n",
       "    }\n",
       "</style>\n",
       "<table border=\"1\" class=\"dataframe\">\n",
       "  <thead>\n",
       "    <tr style=\"text-align: right;\">\n",
       "      <th></th>\n",
       "      <th>NickName</th>\n",
       "      <th>Date</th>\n",
       "      <th>Content</th>\n",
       "      <th>Type</th>\n",
       "    </tr>\n",
       "  </thead>\n",
       "  <tbody>\n",
       "    <tr>\n",
       "      <th>0</th>\n",
       "      <td>AdJQKzNaZWAV</td>\n",
       "      <td>2016-04-14 23:30:42</td>\n",
       "      <td>想知道是不是卖家给我发错货了，怎么四个连接铁通的仅一个能连上，**块钱的东西说便宜也不至于廉...</td>\n",
       "      <td>Negative</td>\n",
       "    </tr>\n",
       "    <tr>\n",
       "      <th>1</th>\n",
       "      <td>sdmjk</td>\n",
       "      <td>2013-06-24 22:37:51</td>\n",
       "      <td>垃圾。\\n两个管两头一样粗，得自己用钳子摄细才能装上\\n管子很软很细\\n总的评价 - 就是两...</td>\n",
       "      <td>Negative</td>\n",
       "    </tr>\n",
       "    <tr>\n",
       "      <th>2</th>\n",
       "      <td>f***n</td>\n",
       "      <td>2015-06-05 21:10:31</td>\n",
       "      <td>我就无语了...难弄到死..又没说明书..过段差评..</td>\n",
       "      <td>Negative</td>\n",
       "    </tr>\n",
       "    <tr>\n",
       "      <th>3</th>\n",
       "      <td>jd_817039867</td>\n",
       "      <td>2014-04-13 22:43:38</td>\n",
       "      <td>不满意，明明写的落地！结果差一截！而且自垂度不怎么好～还要用夹子夹！没有我在附近小超市买的质...</td>\n",
       "      <td>Negative</td>\n",
       "    </tr>\n",
       "    <tr>\n",
       "      <th>4</th>\n",
       "      <td>jd_wscj529</td>\n",
       "      <td>2014-06-09 13:06:17</td>\n",
       "      <td>标的次日到达，结果快递用了四天，蚊帐杆底座太小，管壁太薄，而且蚊帐也没宣传那么垂地，此次购物...</td>\n",
       "      <td>Negative</td>\n",
       "    </tr>\n",
       "    <tr>\n",
       "      <th>...</th>\n",
       "      <td>...</td>\n",
       "      <td>...</td>\n",
       "      <td>...</td>\n",
       "      <td>...</td>\n",
       "    </tr>\n",
       "    <tr>\n",
       "      <th>10640</th>\n",
       "      <td>喵***名</td>\n",
       "      <td>2016-08-13 10:50:16</td>\n",
       "      <td>有活动 减价才买的 要不根本不值那个价格 支撑很不稳 蚊帐一弄就碎</td>\n",
       "      <td>Negative</td>\n",
       "    </tr>\n",
       "    <tr>\n",
       "      <th>10641</th>\n",
       "      <td>k***o</td>\n",
       "      <td>2017-04-24 01:45:57</td>\n",
       "      <td>质量还行，关键是蚊子咬不着俺了！</td>\n",
       "      <td>Positive</td>\n",
       "    </tr>\n",
       "    <tr>\n",
       "      <th>10642</th>\n",
       "      <td>c***9</td>\n",
       "      <td>2016-03-25 13:50:52</td>\n",
       "      <td>不锈钢有几根变形，而且很薄，不满意</td>\n",
       "      <td>Negative</td>\n",
       "    </tr>\n",
       "    <tr>\n",
       "      <th>10643</th>\n",
       "      <td>xiaozhu333</td>\n",
       "      <td>2013-06-24 18:59:29</td>\n",
       "      <td>第一：快递太慢了，18号晚上下的单，那就算19号下单呗，一直到今天下午才送货，一个星期了。就...</td>\n",
       "      <td>Negative</td>\n",
       "    </tr>\n",
       "    <tr>\n",
       "      <th>10644</th>\n",
       "      <td>d***5</td>\n",
       "      <td>2015-09-06 19:22:43</td>\n",
       "      <td>这款蚊帐买回家，妈妈说很漂亮，也很好用，非常实用，下次在来光顾</td>\n",
       "      <td>Positive</td>\n",
       "    </tr>\n",
       "  </tbody>\n",
       "</table>\n",
       "<p>10645 rows × 4 columns</p>\n",
       "</div>"
      ],
      "text/plain": [
       "           NickName                 Date  \\\n",
       "0      AdJQKzNaZWAV  2016-04-14 23:30:42   \n",
       "1             sdmjk  2013-06-24 22:37:51   \n",
       "2             f***n  2015-06-05 21:10:31   \n",
       "3      jd_817039867  2014-04-13 22:43:38   \n",
       "4        jd_wscj529  2014-06-09 13:06:17   \n",
       "...             ...                  ...   \n",
       "10640         喵***名  2016-08-13 10:50:16   \n",
       "10641         k***o  2017-04-24 01:45:57   \n",
       "10642         c***9  2016-03-25 13:50:52   \n",
       "10643    xiaozhu333  2013-06-24 18:59:29   \n",
       "10644         d***5  2015-09-06 19:22:43   \n",
       "\n",
       "                                                 Content      Type  \n",
       "0      想知道是不是卖家给我发错货了，怎么四个连接铁通的仅一个能连上，**块钱的东西说便宜也不至于廉...  Negative  \n",
       "1      垃圾。\\n两个管两头一样粗，得自己用钳子摄细才能装上\\n管子很软很细\\n总的评价 - 就是两...  Negative  \n",
       "2                            我就无语了...难弄到死..又没说明书..过段差评..  Negative  \n",
       "3      不满意，明明写的落地！结果差一截！而且自垂度不怎么好～还要用夹子夹！没有我在附近小超市买的质...  Negative  \n",
       "4      标的次日到达，结果快递用了四天，蚊帐杆底座太小，管壁太薄，而且蚊帐也没宣传那么垂地，此次购物...  Negative  \n",
       "...                                                  ...       ...  \n",
       "10640                  有活动 减价才买的 要不根本不值那个价格 支撑很不稳 蚊帐一弄就碎  Negative  \n",
       "10641                                   质量还行，关键是蚊子咬不着俺了！  Positive  \n",
       "10642                                  不锈钢有几根变形，而且很薄，不满意  Negative  \n",
       "10643  第一：快递太慢了，18号晚上下的单，那就算19号下单呗，一直到今天下午才送货，一个星期了。就...  Negative  \n",
       "10644                    这款蚊帐买回家，妈妈说很漂亮，也很好用，非常实用，下次在来光顾  Positive  \n",
       "\n",
       "[10645 rows x 4 columns]"
      ]
     },
     "execution_count": 2,
     "metadata": {},
     "output_type": "execute_result"
    }
   ],
   "source": [
    "evaluation = pd.read_excel('Contents.xlsx',sheet_name=0)\n",
    "evaluation"
   ]
  },
  {
   "cell_type": "code",
   "execution_count": 3,
   "id": "1a2fe8de",
   "metadata": {},
   "outputs": [
    {
     "name": "stderr",
     "output_type": "stream",
     "text": [
      "C:\\Users\\Jay Shen\\AppData\\Local\\Temp\\ipykernel_3264\\215469740.py:2: FutureWarning: The default value of regex will change from True to False in a future version.\n",
      "  evaluation.Content = evaluation.Content.str.replace('[0-9a-zA-Z]','')\n"
     ]
    },
    {
     "data": {
      "text/html": [
       "<div>\n",
       "<style scoped>\n",
       "    .dataframe tbody tr th:only-of-type {\n",
       "        vertical-align: middle;\n",
       "    }\n",
       "\n",
       "    .dataframe tbody tr th {\n",
       "        vertical-align: top;\n",
       "    }\n",
       "\n",
       "    .dataframe thead th {\n",
       "        text-align: right;\n",
       "    }\n",
       "</style>\n",
       "<table border=\"1\" class=\"dataframe\">\n",
       "  <thead>\n",
       "    <tr style=\"text-align: right;\">\n",
       "      <th></th>\n",
       "      <th>NickName</th>\n",
       "      <th>Date</th>\n",
       "      <th>Content</th>\n",
       "      <th>Type</th>\n",
       "    </tr>\n",
       "  </thead>\n",
       "  <tbody>\n",
       "    <tr>\n",
       "      <th>0</th>\n",
       "      <td>AdJQKzNaZWAV</td>\n",
       "      <td>2016-04-14 23:30:42</td>\n",
       "      <td>想知道是不是卖家给我发错货了，怎么四个连接铁通的仅一个能连上，**块钱的东西说便宜也不至于廉...</td>\n",
       "      <td>Negative</td>\n",
       "    </tr>\n",
       "    <tr>\n",
       "      <th>1</th>\n",
       "      <td>sdmjk</td>\n",
       "      <td>2013-06-24 22:37:51</td>\n",
       "      <td>垃圾。\\n两个管两头一样粗，得自己用钳子摄细才能装上\\n管子很软很细\\n总的评价 - 就是两...</td>\n",
       "      <td>Negative</td>\n",
       "    </tr>\n",
       "    <tr>\n",
       "      <th>2</th>\n",
       "      <td>f***n</td>\n",
       "      <td>2015-06-05 21:10:31</td>\n",
       "      <td>我就无语了...难弄到死..又没说明书..过段差评..</td>\n",
       "      <td>Negative</td>\n",
       "    </tr>\n",
       "    <tr>\n",
       "      <th>3</th>\n",
       "      <td>jd_817039867</td>\n",
       "      <td>2014-04-13 22:43:38</td>\n",
       "      <td>不满意，明明写的落地！结果差一截！而且自垂度不怎么好～还要用夹子夹！没有我在附近小超市买的质...</td>\n",
       "      <td>Negative</td>\n",
       "    </tr>\n",
       "    <tr>\n",
       "      <th>4</th>\n",
       "      <td>jd_wscj529</td>\n",
       "      <td>2014-06-09 13:06:17</td>\n",
       "      <td>标的次日到达，结果快递用了四天，蚊帐杆底座太小，管壁太薄，而且蚊帐也没宣传那么垂地，此次购物...</td>\n",
       "      <td>Negative</td>\n",
       "    </tr>\n",
       "    <tr>\n",
       "      <th>...</th>\n",
       "      <td>...</td>\n",
       "      <td>...</td>\n",
       "      <td>...</td>\n",
       "      <td>...</td>\n",
       "    </tr>\n",
       "    <tr>\n",
       "      <th>10640</th>\n",
       "      <td>喵***名</td>\n",
       "      <td>2016-08-13 10:50:16</td>\n",
       "      <td>有活动 减价才买的 要不根本不值那个价格 支撑很不稳 蚊帐一弄就碎</td>\n",
       "      <td>Negative</td>\n",
       "    </tr>\n",
       "    <tr>\n",
       "      <th>10641</th>\n",
       "      <td>k***o</td>\n",
       "      <td>2017-04-24 01:45:57</td>\n",
       "      <td>质量还行，关键是蚊子咬不着俺了！</td>\n",
       "      <td>Positive</td>\n",
       "    </tr>\n",
       "    <tr>\n",
       "      <th>10642</th>\n",
       "      <td>c***9</td>\n",
       "      <td>2016-03-25 13:50:52</td>\n",
       "      <td>不锈钢有几根变形，而且很薄，不满意</td>\n",
       "      <td>Negative</td>\n",
       "    </tr>\n",
       "    <tr>\n",
       "      <th>10643</th>\n",
       "      <td>xiaozhu333</td>\n",
       "      <td>2013-06-24 18:59:29</td>\n",
       "      <td>第一：快递太慢了，号晚上下的单，那就算号下单呗，一直到今天下午才送货，一个星期了。就算我在广...</td>\n",
       "      <td>Negative</td>\n",
       "    </tr>\n",
       "    <tr>\n",
       "      <th>10644</th>\n",
       "      <td>d***5</td>\n",
       "      <td>2015-09-06 19:22:43</td>\n",
       "      <td>这款蚊帐买回家，妈妈说很漂亮，也很好用，非常实用，下次在来光顾</td>\n",
       "      <td>Positive</td>\n",
       "    </tr>\n",
       "  </tbody>\n",
       "</table>\n",
       "<p>10645 rows × 4 columns</p>\n",
       "</div>"
      ],
      "text/plain": [
       "           NickName                 Date  \\\n",
       "0      AdJQKzNaZWAV  2016-04-14 23:30:42   \n",
       "1             sdmjk  2013-06-24 22:37:51   \n",
       "2             f***n  2015-06-05 21:10:31   \n",
       "3      jd_817039867  2014-04-13 22:43:38   \n",
       "4        jd_wscj529  2014-06-09 13:06:17   \n",
       "...             ...                  ...   \n",
       "10640         喵***名  2016-08-13 10:50:16   \n",
       "10641         k***o  2017-04-24 01:45:57   \n",
       "10642         c***9  2016-03-25 13:50:52   \n",
       "10643    xiaozhu333  2013-06-24 18:59:29   \n",
       "10644         d***5  2015-09-06 19:22:43   \n",
       "\n",
       "                                                 Content      Type  \n",
       "0      想知道是不是卖家给我发错货了，怎么四个连接铁通的仅一个能连上，**块钱的东西说便宜也不至于廉...  Negative  \n",
       "1      垃圾。\\n两个管两头一样粗，得自己用钳子摄细才能装上\\n管子很软很细\\n总的评价 - 就是两...  Negative  \n",
       "2                            我就无语了...难弄到死..又没说明书..过段差评..  Negative  \n",
       "3      不满意，明明写的落地！结果差一截！而且自垂度不怎么好～还要用夹子夹！没有我在附近小超市买的质...  Negative  \n",
       "4      标的次日到达，结果快递用了四天，蚊帐杆底座太小，管壁太薄，而且蚊帐也没宣传那么垂地，此次购物...  Negative  \n",
       "...                                                  ...       ...  \n",
       "10640                  有活动 减价才买的 要不根本不值那个价格 支撑很不稳 蚊帐一弄就碎  Negative  \n",
       "10641                                   质量还行，关键是蚊子咬不着俺了！  Positive  \n",
       "10642                                  不锈钢有几根变形，而且很薄，不满意  Negative  \n",
       "10643  第一：快递太慢了，号晚上下的单，那就算号下单呗，一直到今天下午才送货，一个星期了。就算我在广...  Negative  \n",
       "10644                    这款蚊帐买回家，妈妈说很漂亮，也很好用，非常实用，下次在来光顾  Positive  \n",
       "\n",
       "[10645 rows x 4 columns]"
      ]
     },
     "execution_count": 3,
     "metadata": {},
     "output_type": "execute_result"
    }
   ],
   "source": [
    "#运用正则表达式将评论中的数字和英文去除\n",
    "evaluation.Content = evaluation.Content.str.replace('[0-9a-zA-Z]','')\n",
    "evaluation"
   ]
  },
  {
   "cell_type": "code",
   "execution_count": 4,
   "id": "3f941747",
   "metadata": {},
   "outputs": [],
   "source": [
    "import jieba"
   ]
  },
  {
   "cell_type": "code",
   "execution_count": 5,
   "id": "efd85922",
   "metadata": {},
   "outputs": [
    {
     "name": "stderr",
     "output_type": "stream",
     "text": [
      "Building prefix dict from the default dictionary ...\n",
      "Dumping model to file cache C:\\Users\\JAYSHE~1\\AppData\\Local\\Temp\\jieba.cache\n",
      "Loading model cost 0.498 seconds.\n",
      "Prefix dict has been built successfully.\n"
     ]
    }
   ],
   "source": [
    "#加载自定义词库\n",
    "jieba.load_userdict('all_words.txt')"
   ]
  },
  {
   "cell_type": "code",
   "execution_count": 6,
   "id": "e85d70f1",
   "metadata": {},
   "outputs": [],
   "source": [
    "#读入停止词\n",
    "with open('mystopwords.txt',encoding='UTF-8') as words:\n",
    "    stop_words = [i.strip() for i in words.readlines()]"
   ]
  },
  {
   "cell_type": "code",
   "execution_count": 7,
   "id": "eb6e57df",
   "metadata": {},
   "outputs": [
    {
     "data": {
      "text/plain": [
       "0                  想 卖家 给我发 错货 四个 连接 铁通 块钱 便宜 廉价 退货\n",
       "1           垃圾 \\n 钳子 摄细 装 \\n 管子 很软 \\n 评价         垃圾\n",
       "2                       我就 无语 难弄 .. 说明书 .. 过段 差评 ..\n",
       "3    不满意 写 落地 差一截 垂度 ～ 夹子 夹 没有 超市 买 质量好 换季 卖得 价钱 便宜\n",
       "4      标的 到达 快递 四天 蚊帐 底座 太小 管壁 太薄 蚊帐 也没 宣传 垂地 购物 失败\n",
       "Name: Content, dtype: object"
      ]
     },
     "execution_count": 7,
     "metadata": {},
     "output_type": "execute_result"
    }
   ],
   "source": [
    "#构造切词的自定义函数，并在切词过程中删除停止词\n",
    "def cut_word(sentence):\n",
    "    words = [i for i in jieba.lcut(sentence) if i not in stop_words]\n",
    "    #切完的词用空格隔开\n",
    "    result = ' '.join(words)\n",
    "    return result\n",
    "\n",
    "#调用自定义函数，并对评论内容进行批量切词\n",
    "words = evaluation.Content.apply(cut_word)\n",
    "#前5行内容的切词效果\n",
    "words[:5]"
   ]
  },
  {
   "cell_type": "code",
   "execution_count": 8,
   "id": "3952b812",
   "metadata": {},
   "outputs": [],
   "source": [
    "from sklearn.feature_extraction.text import CountVectorizer"
   ]
  },
  {
   "cell_type": "code",
   "execution_count": 9,
   "id": "34aeadce",
   "metadata": {},
   "outputs": [],
   "source": [
    "#计算每个词再各评论内容中的次数，并将稀疏度为99%以上的词删除\n",
    "counts = CountVectorizer(min_df = 0.01)"
   ]
  },
  {
   "cell_type": "code",
   "execution_count": 10,
   "id": "068d1549",
   "metadata": {},
   "outputs": [],
   "source": [
    "#文档词条矩阵\n",
    "dtm_counts = counts.fit_transform(words).toarray()"
   ]
  },
  {
   "cell_type": "code",
   "execution_count": 11,
   "id": "dcaa6d50",
   "metadata": {},
   "outputs": [
    {
     "name": "stderr",
     "output_type": "stream",
     "text": [
      "D:\\lib\\site-packages\\sklearn\\utils\\deprecation.py:87: FutureWarning: Function get_feature_names is deprecated; get_feature_names is deprecated in 1.0 and will be removed in 1.2. Please use get_feature_names_out instead.\n",
      "  warnings.warn(msg, category=FutureWarning)\n"
     ]
    }
   ],
   "source": [
    "#矩阵的列名称\n",
    "columns = counts.get_feature_names()"
   ]
  },
  {
   "cell_type": "code",
   "execution_count": 12,
   "id": "9842d2b6",
   "metadata": {},
   "outputs": [],
   "source": [
    "#将举证转换为数据框,即X变量\n",
    "X = pd.DataFrame(dtm_counts,columns = columns)"
   ]
  },
  {
   "cell_type": "code",
   "execution_count": 13,
   "id": "537a2f89",
   "metadata": {},
   "outputs": [
    {
     "data": {
      "text/html": [
       "<div>\n",
       "<style scoped>\n",
       "    .dataframe tbody tr th:only-of-type {\n",
       "        vertical-align: middle;\n",
       "    }\n",
       "\n",
       "    .dataframe tbody tr th {\n",
       "        vertical-align: top;\n",
       "    }\n",
       "\n",
       "    .dataframe thead th {\n",
       "        text-align: right;\n",
       "    }\n",
       "</style>\n",
       "<table border=\"1\" class=\"dataframe\">\n",
       "  <thead>\n",
       "    <tr style=\"text-align: right;\">\n",
       "      <th></th>\n",
       "      <th>一根</th>\n",
       "      <th>下单</th>\n",
       "      <th>不值</th>\n",
       "      <th>不好</th>\n",
       "      <th>不想</th>\n",
       "      <th>不满意</th>\n",
       "      <th>不知道</th>\n",
       "      <th>不行</th>\n",
       "      <th>不错</th>\n",
       "      <th>买回来</th>\n",
       "      <th>...</th>\n",
       "      <th>还好</th>\n",
       "      <th>还行</th>\n",
       "      <th>退货</th>\n",
       "      <th>送货</th>\n",
       "      <th>速度</th>\n",
       "      <th>钢管</th>\n",
       "      <th>防蚊</th>\n",
       "      <th>非常好</th>\n",
       "      <th>颜色</th>\n",
       "      <th>麻烦</th>\n",
       "    </tr>\n",
       "  </thead>\n",
       "  <tbody>\n",
       "    <tr>\n",
       "      <th>0</th>\n",
       "      <td>0</td>\n",
       "      <td>0</td>\n",
       "      <td>0</td>\n",
       "      <td>0</td>\n",
       "      <td>0</td>\n",
       "      <td>0</td>\n",
       "      <td>0</td>\n",
       "      <td>0</td>\n",
       "      <td>0</td>\n",
       "      <td>0</td>\n",
       "      <td>...</td>\n",
       "      <td>0</td>\n",
       "      <td>0</td>\n",
       "      <td>1</td>\n",
       "      <td>0</td>\n",
       "      <td>0</td>\n",
       "      <td>0</td>\n",
       "      <td>0</td>\n",
       "      <td>0</td>\n",
       "      <td>0</td>\n",
       "      <td>0</td>\n",
       "    </tr>\n",
       "    <tr>\n",
       "      <th>1</th>\n",
       "      <td>0</td>\n",
       "      <td>0</td>\n",
       "      <td>0</td>\n",
       "      <td>0</td>\n",
       "      <td>0</td>\n",
       "      <td>0</td>\n",
       "      <td>0</td>\n",
       "      <td>0</td>\n",
       "      <td>0</td>\n",
       "      <td>0</td>\n",
       "      <td>...</td>\n",
       "      <td>0</td>\n",
       "      <td>0</td>\n",
       "      <td>0</td>\n",
       "      <td>0</td>\n",
       "      <td>0</td>\n",
       "      <td>0</td>\n",
       "      <td>0</td>\n",
       "      <td>0</td>\n",
       "      <td>0</td>\n",
       "      <td>0</td>\n",
       "    </tr>\n",
       "    <tr>\n",
       "      <th>2</th>\n",
       "      <td>0</td>\n",
       "      <td>0</td>\n",
       "      <td>0</td>\n",
       "      <td>0</td>\n",
       "      <td>0</td>\n",
       "      <td>0</td>\n",
       "      <td>0</td>\n",
       "      <td>0</td>\n",
       "      <td>0</td>\n",
       "      <td>0</td>\n",
       "      <td>...</td>\n",
       "      <td>0</td>\n",
       "      <td>0</td>\n",
       "      <td>0</td>\n",
       "      <td>0</td>\n",
       "      <td>0</td>\n",
       "      <td>0</td>\n",
       "      <td>0</td>\n",
       "      <td>0</td>\n",
       "      <td>0</td>\n",
       "      <td>0</td>\n",
       "    </tr>\n",
       "    <tr>\n",
       "      <th>3</th>\n",
       "      <td>0</td>\n",
       "      <td>0</td>\n",
       "      <td>0</td>\n",
       "      <td>0</td>\n",
       "      <td>0</td>\n",
       "      <td>1</td>\n",
       "      <td>0</td>\n",
       "      <td>0</td>\n",
       "      <td>0</td>\n",
       "      <td>0</td>\n",
       "      <td>...</td>\n",
       "      <td>0</td>\n",
       "      <td>0</td>\n",
       "      <td>0</td>\n",
       "      <td>0</td>\n",
       "      <td>0</td>\n",
       "      <td>0</td>\n",
       "      <td>0</td>\n",
       "      <td>0</td>\n",
       "      <td>0</td>\n",
       "      <td>0</td>\n",
       "    </tr>\n",
       "    <tr>\n",
       "      <th>4</th>\n",
       "      <td>0</td>\n",
       "      <td>0</td>\n",
       "      <td>0</td>\n",
       "      <td>0</td>\n",
       "      <td>0</td>\n",
       "      <td>0</td>\n",
       "      <td>0</td>\n",
       "      <td>0</td>\n",
       "      <td>0</td>\n",
       "      <td>0</td>\n",
       "      <td>...</td>\n",
       "      <td>0</td>\n",
       "      <td>0</td>\n",
       "      <td>0</td>\n",
       "      <td>0</td>\n",
       "      <td>0</td>\n",
       "      <td>0</td>\n",
       "      <td>0</td>\n",
       "      <td>0</td>\n",
       "      <td>0</td>\n",
       "      <td>0</td>\n",
       "    </tr>\n",
       "  </tbody>\n",
       "</table>\n",
       "<p>5 rows × 99 columns</p>\n",
       "</div>"
      ],
      "text/plain": [
       "   一根  下单  不值  不好  不想  不满意  不知道  不行  不错  买回来  ...  还好  还行  退货  送货  速度  钢管  防蚊  \\\n",
       "0   0   0   0   0   0    0    0   0   0    0  ...   0   0   1   0   0   0   0   \n",
       "1   0   0   0   0   0    0    0   0   0    0  ...   0   0   0   0   0   0   0   \n",
       "2   0   0   0   0   0    0    0   0   0    0  ...   0   0   0   0   0   0   0   \n",
       "3   0   0   0   0   0    1    0   0   0    0  ...   0   0   0   0   0   0   0   \n",
       "4   0   0   0   0   0    0    0   0   0    0  ...   0   0   0   0   0   0   0   \n",
       "\n",
       "   非常好  颜色  麻烦  \n",
       "0    0   0   0  \n",
       "1    0   0   0  \n",
       "2    0   0   0  \n",
       "3    0   0   0  \n",
       "4    0   0   0  \n",
       "\n",
       "[5 rows x 99 columns]"
      ]
     },
     "execution_count": 13,
     "metadata": {},
     "output_type": "execute_result"
    }
   ],
   "source": [
    "#情感标签变量\n",
    "y = evaluation.Type\n",
    "X.head()"
   ]
  },
  {
   "cell_type": "code",
   "execution_count": 14,
   "id": "58e8c5f8",
   "metadata": {},
   "outputs": [],
   "source": [
    "#将数据集拆分为训练集和测试集\n",
    "X_train,X_test,y_train,y_test = model_selection.train_test_split(X,y,test_size = 0.25,random_state=1)"
   ]
  },
  {
   "cell_type": "code",
   "execution_count": 17,
   "id": "5bfbbb89",
   "metadata": {},
   "outputs": [],
   "source": [
    "#构建伯努利贝叶斯分类器\n",
    "from sklearn import naive_bayes\n",
    "bnb = naive_bayes.BernoulliNB()"
   ]
  },
  {
   "cell_type": "code",
   "execution_count": 18,
   "id": "739f2338",
   "metadata": {},
   "outputs": [
    {
     "data": {
      "text/plain": [
       "BernoulliNB()"
      ]
     },
     "execution_count": 18,
     "metadata": {},
     "output_type": "execute_result"
    }
   ],
   "source": [
    "#模型再训练数据集上的集合\n",
    "bnb.fit(X_train,y_train)"
   ]
  },
  {
   "cell_type": "code",
   "execution_count": 19,
   "id": "b7e608f4",
   "metadata": {},
   "outputs": [],
   "source": [
    "#模型再测试数据集上的预测\n",
    "bnb_pred = bnb.predict(X_test)"
   ]
  },
  {
   "cell_type": "code",
   "execution_count": 21,
   "id": "5c6aa16e",
   "metadata": {},
   "outputs": [],
   "source": [
    "#构建混淆举证\n",
    "cm = pd.crosstab(bnb_pred,y_test)"
   ]
  },
  {
   "cell_type": "code",
   "execution_count": 23,
   "id": "2f5715e8",
   "metadata": {},
   "outputs": [
    {
     "data": {
      "text/plain": [
       "Text(33.0, 0.5, 'Predict')"
      ]
     },
     "execution_count": 23,
     "metadata": {},
     "output_type": "execute_result"
    },
    {
     "data": {
      "image/png": "[encoded data removed]",
      "text/plain": [
       "<Figure size 432x288 with 2 Axes>"
      ]
     },
     "metadata": {
      "needs_background": "light"
     },
     "output_type": "display_data"
    }
   ],
   "source": [
    "sns.heatmap(cm,annot=True,cmap = 'GnBu',fmt='d')\n",
    "#去除x轴和y轴标签\n",
    "plt.xlabel(\"Real\")\n",
    "plt.ylabel(\"Predict\")"
   ]
  },
  {
   "cell_type": "code",
   "execution_count": 24,
   "id": "9e479603",
   "metadata": {},
   "outputs": [
    {
     "name": "stdout",
     "output_type": "stream",
     "text": [
      "模型的准确率为:\n",
      " 0.8467317806160781\n",
      "模型的评估报告为:\n",
      "               precision    recall  f1-score   support\n",
      "\n",
      "    Negative       0.82      0.89      0.85      1341\n",
      "    Positive       0.88      0.80      0.84      1321\n",
      "\n",
      "    accuracy                           0.85      2662\n",
      "   macro avg       0.85      0.85      0.85      2662\n",
      "weighted avg       0.85      0.85      0.85      2662\n",
      "\n"
     ]
    }
   ],
   "source": [
    "#模型的预测准确率\n",
    "print(\"模型的准确率为:\\n\",metrics.accuracy_score(y_test,bnb_pred))\n",
    "print(\"模型的评估报告为:\\n\",metrics.classification_report(y_test,bnb_pred))"
   ]
  },
  {
   "cell_type": "code",
   "execution_count": 25,
   "id": "15016485",
   "metadata": {},
   "outputs": [],
   "source": [
    "#计算正例的预测概率，用于生成ROC曲线的数据\n",
    "y_score = bnb.predict_proba(X_test)[:,1]\n",
    "fpr,tpr,threshold = metrics.roc_curve(y_test.map({'Negative':0,'Positive':1}),y_score)"
   ]
  },
  {
   "cell_type": "code",
   "execution_count": 26,
   "id": "ad7e3a5a",
   "metadata": {},
   "outputs": [],
   "source": [
    "#计算AUC\n",
    "roc_auc = metrics.auc(fpr,tpr)"
   ]
  },
  {
   "cell_type": "code",
   "execution_count": 27,
   "id": "4e953deb",
   "metadata": {},
   "outputs": [
    {
     "data": {
      "image/png": "[encoded data removed]",
      "text/plain": [
       "<Figure size 432x288 with 1 Axes>"
      ]
     },
     "metadata": {
      "needs_background": "light"
     },
     "output_type": "display_data"
    }
   ],
   "source": [
    "#绘制面积图\n",
    "plt.stackplot(fpr,tpr,color='steelblue',alpha=0.5,edgecolor='black')\n",
    "#添加边际线\n",
    "plt.plot(fpr,tpr,color='black',lw=1)\n",
    "#添加对角线\n",
    "plt.plot([0,1],[0,1],color='red',linestyle='--')\n",
    "#添加文本信息\n",
    "plt.text(0.5,0.3,'ROC curve (area=%0.2f)'%roc_auc)\n",
    "plt.xlabel('1-specificity')\n",
    "plt.ylabel('sensitivity')\n",
    "plt.show()"
   ]
  },
  {
   "cell_type": "code",
   "execution_count": null,
   "id": "ab32e9a8",
   "metadata": {},
   "outputs": [],
   "source": []
  }
 ],
 "metadata": {
  "kernelspec": {
   "display_name": "Python 3 (ipykernel)",
   "language": "python",
   "name": "python3"
  },
  "language_info": {
   "codemirror_mode": {
    "name": "ipython",
    "version": 3
   },
   "file_extension": ".py",
   "mimetype": "text/x-python",
   "name": "python",
   "nbconvert_exporter": "python",
   "pygments_lexer": "ipython3",
   "version": "3.10.3"
  }
 },
 "nbformat": 4,
 "nbformat_minor": 5
}
